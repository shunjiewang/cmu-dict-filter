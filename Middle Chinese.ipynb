{
 "cells": [
  {
   "cell_type": "code",
   "execution_count": 15,
   "metadata": {},
   "outputs": [],
   "source": [
    "import pandas"
   ]
  },
  {
   "cell_type": "code",
   "execution_count": 16,
   "metadata": {},
   "outputs": [],
   "source": [
    "colnames = [\"zi\", \"py\", \"MC\", \"MC2\",\"OC\",\"gloss\",\"GSR\",\"HYDZD\",\"rad\",\"str\",\"Unicode\"]"
   ]
  },
  {
   "cell_type": "code",
   "execution_count": 17,
   "metadata": {},
   "outputs": [],
   "source": [
    "data = pandas.read_csv(\"BaxterSagartOC2015-10-13.csv\", names = colnames, low_memory=False)"
   ]
  },
  {
   "cell_type": "code",
   "execution_count": 18,
   "metadata": {},
   "outputs": [],
   "source": [
    "zi_li = data.zi.tolist()\n",
    "MC_li = data.MC.tolist()\n",
    "UC_li = data.Unicode.tolist()"
   ]
  },
  {
   "cell_type": "code",
   "execution_count": 19,
   "metadata": {},
   "outputs": [
    {
     "data": {
      "text/plain": [
       "'埃'"
      ]
     },
     "execution_count": 19,
     "metadata": {},
     "output_type": "execute_result"
    }
   ],
   "source": [
    "zi_li[1]"
   ]
  },
  {
   "cell_type": "code",
   "execution_count": 20,
   "metadata": {},
   "outputs": [
    {
     "data": {
      "text/plain": [
       "'作'"
      ]
     },
     "execution_count": 20,
     "metadata": {},
     "output_type": "execute_result"
    }
   ],
   "source": [
    "zi_li[j]"
   ]
  },
  {
   "cell_type": "code",
   "execution_count": 21,
   "metadata": {},
   "outputs": [],
   "source": [
    "MC_ptk = []"
   ]
  },
  {
   "cell_type": "code",
   "execution_count": 22,
   "metadata": {},
   "outputs": [
    {
     "data": {
      "text/plain": [
       "False"
      ]
     },
     "execution_count": 22,
     "metadata": {},
     "output_type": "execute_result"
    }
   ],
   "source": [
    "str(MC_li[0])[-1] == \"p\""
   ]
  },
  {
   "cell_type": "code",
   "execution_count": 23,
   "metadata": {},
   "outputs": [],
   "source": [
    "for j in range(len(MC_li)):\n",
    "    if str(MC_li[j])[-1] == \"p\":\n",
    "        MC_ptk.append(zi_li[j])\n",
    "    elif str(MC_li[j])[-1] == \"t\":\n",
    "        MC_ptk.append(zi_li[j])\n",
    "    elif str(MC_li[j])[-1] == \"k\":\n",
    "        MC_ptk.append(zi_li[j])"
   ]
  },
  {
   "cell_type": "code",
   "execution_count": 24,
   "metadata": {},
   "outputs": [],
   "source": [
    "mydict = {zi_li[i]: MC_li[i] for i in range(len(zi_li))}"
   ]
  },
  {
   "cell_type": "code",
   "execution_count": 30,
   "metadata": {},
   "outputs": [
    {
     "data": {
      "text/plain": [
       "'pjop'"
      ]
     },
     "execution_count": 30,
     "metadata": {},
     "output_type": "execute_result"
    }
   ],
   "source": [
    "mydict[\"法\"]"
   ]
  },
  {
   "cell_type": "code",
   "execution_count": 26,
   "metadata": {},
   "outputs": [],
   "source": [
    "import pycantonese as pc"
   ]
  },
  {
   "cell_type": "code",
   "execution_count": 27,
   "metadata": {},
   "outputs": [],
   "source": [
    "corpus = pc.hkcancor()"
   ]
  },
  {
   "cell_type": "code",
   "execution_count": 31,
   "metadata": {},
   "outputs": [
    {
     "data": {
      "text/plain": [
       "[('辦法', 'N', 'baan6faat3', ''),\n",
       " ('法國', 'NS', 'faat3gwok3', ''),\n",
       " ('法國', 'NS', 'faat3gwok3', ''),\n",
       " ('法國', 'NS', 'faat3gwok3', ''),\n",
       " ('法', 'N', 'faat3', ''),\n",
       " ('法', 'N', 'faat3', ''),\n",
       " ('療法', 'N', 'liu4faat3', ''),\n",
       " ('法', 'N', 'faat3', ''),\n",
       " ('方法', 'N', 'fong1faat3', ''),\n",
       " ('法律', 'N', 'faat3leot6', ''),\n",
       " ('講法', 'N', 'gong2faat3', ''),\n",
       " ('法國', 'NS', 'faat3gwok3', ''),\n",
       " ('法國', 'NS', 'faat3gwok3', ''),\n",
       " ('搞法', 'N', 'gaau2faat3', ''),\n",
       " ('辦法', 'N', 'baan6faat3', ''),\n",
       " ('法', 'NG', 'faat3', ''),\n",
       " ('法國', 'NS', 'faat3gwok3', ''),\n",
       " ('法國', 'NS', 'faat3gwok3', ''),\n",
       " ('法國', 'NS', 'faat3gwok3', ''),\n",
       " ('辦法', 'N', 'baan6faat3', ''),\n",
       " ('法國', 'NS', 'faat3gwok3', ''),\n",
       " ('腳法', 'N', 'goek3faat3', ''),\n",
       " ('腳法', 'N', 'goek3faat3', ''),\n",
       " ('腳法', 'N', 'goek3faat3', ''),\n",
       " ('法', 'N', 'faat3', ''),\n",
       " ('方法', 'N', 'fong1faat3', ''),\n",
       " ('方法', 'N', 'fong1faat3', ''),\n",
       " ('講法', 'N', 'gong2faat3', ''),\n",
       " ('辦法', 'N', 'baan6faat3', ''),\n",
       " ('辦法', 'N', 'baan6faat3', ''),\n",
       " ('解法', 'N', 'gaai2faat3', ''),\n",
       " ('法', 'N', 'faat3', ''),\n",
       " ('法蘭西絲', 'NR', 'faat3laan4sai1si1', ''),\n",
       " ('方法', 'N', 'fong1faat3', ''),\n",
       " ('犯法', 'V', 'faan6faat3', ''),\n",
       " ('方法', 'N', 'fong1faat3', ''),\n",
       " ('方法', 'N', 'fong1faat3', ''),\n",
       " ('講法', 'N', 'gong2faat3', ''),\n",
       " ('辦法', 'N', 'baan6faat3', ''),\n",
       " ('方法', 'N', 'fong1faat3', ''),\n",
       " ('法', 'U', 'faat3', ''),\n",
       " ('方法', 'N', 'fong1faat3', ''),\n",
       " ('方法', 'N', 'fong1faat3', ''),\n",
       " ('方法', 'N', 'fong1faat3', ''),\n",
       " ('方法', 'N', 'fong1faat3', ''),\n",
       " ('辦法', 'N', 'baan6faat3', ''),\n",
       " ('辦法', 'N', 'baan6faat3', ''),\n",
       " ('辦法', 'N', 'baan6faat3', ''),\n",
       " ('辦法', 'N', 'baan6faat3', ''),\n",
       " ('辦法', 'N', 'baan6faat3', ''),\n",
       " ('辦法', 'N', 'baan6faat3', ''),\n",
       " ('辦法', 'N', 'baan6faat3', ''),\n",
       " ('法', 'N', 'faat3', ''),\n",
       " ('法', 'N', 'faat3', ''),\n",
       " ('犯法', 'V', 'faan6faat3', ''),\n",
       " ('犯法', 'V', 'faan6faat3', ''),\n",
       " ('辦法', 'N', 'baan6faat3', ''),\n",
       " ('睇法', 'N', 'tai2faat3', ''),\n",
       " ('方法', 'N', 'fong1faat3', ''),\n",
       " ('辦法', 'N', 'baan6faat3', ''),\n",
       " ('犯法', 'V', 'faan6faat3', ''),\n",
       " ('犯法', 'V', 'faan6faat3', ''),\n",
       " ('諗法', 'N', 'nam2faat3', ''),\n",
       " ('諗法', 'N', 'nam2faat3', ''),\n",
       " ('手法', 'N', 'sau2faat3', ''),\n",
       " ('諗法', 'N', 'nam2faat3', ''),\n",
       " ('犯法', 'V', 'faan6faat3', ''),\n",
       " ('犯法', 'V', 'faan6faat3', ''),\n",
       " ('辦法', 'N', 'baan6faat3', ''),\n",
       " ('方法', 'N', 'fong1faat3', ''),\n",
       " ('法庭', 'N', 'faat3ting4', ''),\n",
       " ('法官', 'N', 'faat3gun1', ''),\n",
       " ('拍法', 'N', 'paak3faat3', ''),\n",
       " ('效法', 'V', 'haau6faat3', ''),\n",
       " ('辦法', 'N', 'baan6faat3', ''),\n",
       " ('方法', 'N', 'fong1faat3', ''),\n",
       " ('睇法', 'N', 'tai2faat3', ''),\n",
       " ('法', 'N', 'faat3', ''),\n",
       " ('方法', 'N', 'fong1faat3', ''),\n",
       " ('手法', 'N', 'sau2faat3', ''),\n",
       " ('方法', 'N', 'fong1faat3', ''),\n",
       " ('方法', 'N', 'fong1faat3', ''),\n",
       " ('辦法', 'N', 'baan6faat3', ''),\n",
       " ('方法', 'N', 'fong1faat3', ''),\n",
       " ('整法', 'N', 'zing2faat3', ''),\n",
       " ('整法', 'N', 'zing2faat3', ''),\n",
       " ('辦法', 'N', 'baan6faat3', ''),\n",
       " ('辦法', 'N', 'baan6faat3', ''),\n",
       " ('違法', 'V', 'wai4faat3', ''),\n",
       " ('法律', 'N', 'faat3leot6', ''),\n",
       " ('不法之徒', 'L', 'bat1faat3zi1tou4', ''),\n",
       " ('做法', 'N', 'zou6faat3', ''),\n",
       " ('法', 'N', 'faat3', ''),\n",
       " ('法官', 'N', 'faat3gun1', ''),\n",
       " ('講法', 'N', 'gong2faat3', ''),\n",
       " ('法律', 'N', 'faat3leot6', ''),\n",
       " ('方法', 'N', 'fong1faat3', ''),\n",
       " ('諗法', 'N', 'nam2faat3', ''),\n",
       " ('諗法', 'N', 'nam2faat3', ''),\n",
       " ('方法', 'N', 'fong1faat3', ''),\n",
       " ('辦法', 'N', 'baan6faat3', ''),\n",
       " ('諗法', 'N', 'nam2faat3', ''),\n",
       " ('諗法', 'N', 'nam2faat3', ''),\n",
       " ('辦法', 'N', 'baan6faat3', ''),\n",
       " ('合法', 'A', 'hap6faat3', ''),\n",
       " ('法', 'U', 'faat3', ''),\n",
       " ('辦法', 'N', 'baan6faat3', ''),\n",
       " ('辦法', 'N', 'baan6faat3', ''),\n",
       " ('諗法', 'N', 'nam2faat3', ''),\n",
       " ('諗法', 'N', 'nam2faat3', ''),\n",
       " ('諗法', 'N', 'nam2faat3', '')]"
      ]
     },
     "execution_count": 31,
     "metadata": {},
     "output_type": "execute_result"
    }
   ],
   "source": [
    "char = corpus.search(character=\"法\")\n",
    "char"
   ]
  },
  {
   "cell_type": "code",
   "execution_count": 29,
   "metadata": {},
   "outputs": [],
   "source": [
    "char = []"
   ]
  },
  {
   "cell_type": "code",
   "execution_count": 173,
   "metadata": {},
   "outputs": [
    {
     "data": {
      "text/plain": [
       "'軷'"
      ]
     },
     "execution_count": 173,
     "metadata": {},
     "output_type": "execute_result"
    }
   ],
   "source": [
    "MC_ptk[1]"
   ]
  },
  {
   "cell_type": "code",
   "execution_count": 203,
   "metadata": {},
   "outputs": [],
   "source": [
    "incons = []"
   ]
  },
  {
   "cell_type": "code",
   "execution_count": 204,
   "metadata": {
    "scrolled": true
   },
   "outputs": [
    {
     "name": "stdout",
     "output_type": "stream",
     "text": [
      "搏\n",
      "出\n",
      "錯\n",
      "度\n",
      "惡\n",
      "法\n",
      "服\n",
      "服\n",
      "服\n",
      "副\n",
      "告\n",
      "蓋\n",
      "核\n",
      "嚇\n",
      "畫\n",
      "借\n",
      "覺\n",
      "拉\n",
      "內\n",
      "殺\n",
      "射\n",
      "識\n",
      "食\n",
      "蝕\n",
      "數\n",
      "削\n",
      "泄\n",
      "壓\n",
      "嗌\n",
      "易\n",
      "眨\n",
      "作\n"
     ]
    }
   ],
   "source": [
    "for l in range(len(MC_ptk)):\n",
    "    char = corpus.search(character = str(MC_ptk[l]))\n",
    "    for k in range(len(char)):\n",
    "        if len(char[k][0]) == 1:\n",
    "            if char[k][2][-2] != mydict[MC_ptk[l]][-1]:\n",
    "                incons.append(MC_ptk[l])\n",
    "                print(MC_ptk[l])\n",
    "                break"
   ]
  },
  {
   "cell_type": "code",
   "execution_count": 210,
   "metadata": {},
   "outputs": [
    {
     "name": "stdout",
     "output_type": "stream",
     "text": [
      "Pretty printing has been turned OFF\n"
     ]
    },
    {
     "data": {
      "text/plain": [
       "['搏', '出', '錯', '度', '惡', '法', '服', '服', '服', '副', '告', '蓋', '核', '嚇', '畫', '借', '覺', '拉', '內', '殺', '射', '識', '食', '蝕', '數', '削', '泄', '壓', '嗌', '易', '眨', '作']"
      ]
     },
     "execution_count": 210,
     "metadata": {},
     "output_type": "execute_result"
    }
   ],
   "source": [
    "%pprint\n",
    "incons"
   ]
  },
  {
   "cell_type": "code",
   "execution_count": 205,
   "metadata": {},
   "outputs": [
    {
     "data": {
      "text/plain": [
       "32"
      ]
     },
     "execution_count": 205,
     "metadata": {},
     "output_type": "execute_result"
    }
   ],
   "source": [
    "len(incons)"
   ]
  }
 ],
 "metadata": {
  "kernelspec": {
   "display_name": "Python 3",
   "language": "python",
   "name": "python3"
  },
  "language_info": {
   "codemirror_mode": {
    "name": "ipython",
    "version": 3
   },
   "file_extension": ".py",
   "mimetype": "text/x-python",
   "name": "python",
   "nbconvert_exporter": "python",
   "pygments_lexer": "ipython3",
   "version": "3.6.5"
  }
 },
 "nbformat": 4,
 "nbformat_minor": 2
}
