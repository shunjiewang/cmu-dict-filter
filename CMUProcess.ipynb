{
 "cells": [
  {
   "cell_type": "code",
   "execution_count": 1,
   "metadata": {},
   "outputs": [],
   "source": [
    "import nltk\n",
    "from nltk.corpus import cmudict\n",
    "\n",
    "entries = cmudict.entries()"
   ]
  },
  {
   "cell_type": "code",
   "execution_count": 2,
   "metadata": {},
   "outputs": [],
   "source": [
    "mylist = []\n",
    "for w in range(len(entries)):\n",
    "    for x in range(len(entries[w][1])):\n",
    "        if entries[w][1][x] == 'SH':\n",
    "            mylist.append(entries[w])\n",
    "            break"
   ]
  },
  {
   "cell_type": "code",
   "execution_count": 3,
   "metadata": {},
   "outputs": [],
   "source": [
    "words = []\n",
    "phone = []\n",
    "for w in mylist:\n",
    "    words.append(w[0])\n",
    "    phone.append(w[1])"
   ]
  },
  {
   "cell_type": "code",
   "execution_count": 4,
   "metadata": {},
   "outputs": [],
   "source": [
    "vowels1 = ['AA1', 'AE1', 'AH1', 'AO1', 'AW1', 'AX1', 'AXR1', 'AY1', 'EH1', 'ER1', 'EY1',\n",
    "         'IH1', 'IY1', 'IX1', 'OW1', 'OY1', 'UH1', 'UW1', 'UX1']\n",
    "\n",
    "vowels0 = []\n",
    "for w in vowels1:\n",
    "    for x in range(len(w)):\n",
    "        if w[x] == '1':\n",
    "            vowels0.append(w[:x] + '0')\n",
    "vowels2 = []\n",
    "for w in vowels1:\n",
    "    for x in range(len(w)):\n",
    "        if w[x] == '1':\n",
    "            vowels2.append(w[:x] + '2')\n",
    "\n",
    "vowels = vowels0 + vowels1 + vowels2"
   ]
  },
  {
   "cell_type": "code",
   "execution_count": 5,
   "metadata": {},
   "outputs": [],
   "source": [
    "intervocalic = []\n",
    "preceding = []\n",
    "following = []\n",
    "for w in phone:\n",
    "    for x in range(len(w)):\n",
    "        if w[x] == 'SH':\n",
    "            if x == 0:\n",
    "                intervocalic.append(0)\n",
    "                preceding.append('0')\n",
    "                if (x+1 in range(len(w))) and (w[x+1] in vowels):\n",
    "                    following.append(w[x+1])\n",
    "                    break\n",
    "                else:\n",
    "                    following.append('0')\n",
    "                    break\n",
    "            elif x+1 in range(len(w)):\n",
    "                if ((w[x-1] in vowels) and (w[x+1] in vowels)):\n",
    "                    intervocalic.append(1)\n",
    "                    preceding.append(w[x-1])\n",
    "                    following.append(w[x+1])\n",
    "                    break\n",
    "                elif ((w[x-1] in vowels) and (w[x+1] not in vowels)):\n",
    "                    intervocalic.append(0)\n",
    "                    preceding.append(w[x-1])\n",
    "                    following.append('0')\n",
    "                    break\n",
    "                elif ((w[x-1] not in vowels) and (w[x+1] in vowels)):\n",
    "                    intervocalic.append(0)\n",
    "                    preceding.append('0')\n",
    "                    following.append(w[x+1])\n",
    "                    break\n",
    "                else:\n",
    "                    intervocalic.append(0)\n",
    "                    preceding.append('0')\n",
    "                    following.append('0')\n",
    "                    break\n",
    "            elif x+1 not in range(len(w)):\n",
    "                if w[x-1] in vowels:\n",
    "                    intervocalic.append(0)\n",
    "                    preceding.append(w[x-1])\n",
    "                    following.append('0')\n",
    "                    break\n",
    "                else:\n",
    "                    intervocalic.append(0)\n",
    "                    preceding.append('0') #is this bug?\n",
    "                    following.append('0')\n",
    "                    break"
   ]
  },
  {
   "cell_type": "code",
   "execution_count": 6,
   "metadata": {},
   "outputs": [],
   "source": [
    "monodict = {}\n",
    "count = 0\n",
    "for w in phone:\n",
    "    for x in range(len(w)):\n",
    "        if w[x] in vowels:\n",
    "            count += 1\n",
    "    if count == 1:\n",
    "        monodict[str(w)] = 1\n",
    "        count = 0\n",
    "    else:\n",
    "        monodict[str(w)] = 0\n",
    "        count = 0"
   ]
  },
  {
   "cell_type": "code",
   "execution_count": 7,
   "metadata": {},
   "outputs": [],
   "source": [
    "#when followed by a vowel, esh is the onset of the syll, when preceded by a vowel and not followed by a vowel,\n",
    "#esh is the coda of the previous syll.\n",
    "stress = []\n",
    "stressdeg = []\n",
    "for w in phone:\n",
    "    if monodict[str(w)] == 1:\n",
    "        stress.append(1)\n",
    "        stressdeg.append(1)\n",
    "    else:    \n",
    "        for x in range(len(w)):\n",
    "            if w[x] == 'SH':\n",
    "                #abash, sh is the final phone, thus the coda, thus look at preceding vowel\n",
    "                if (x+1) not in range(len(w)):\n",
    "                    if w[x-1] in vowels1:\n",
    "                        stress.append(1)\n",
    "                        stressdeg.append(1)\n",
    "                        break\n",
    "                    elif w[x-1] in vowels2:\n",
    "                        stress.append(1)\n",
    "                        stressdeg.append(2)\n",
    "                        break\n",
    "                    else:\n",
    "                        stress.append(0)\n",
    "                        stressdeg.append(0)\n",
    "                        break\n",
    "                #sh is not the final phone\n",
    "                elif (x+1) in range(len(w)):\n",
    "                    #if followed by a vowel, sh is the onset\n",
    "                    if w[x+1] in vowels1:\n",
    "                        stress.append(1)\n",
    "                        stressdeg.append(1)\n",
    "                        break\n",
    "                    elif w[x+1] in vowels2:\n",
    "                        stress.append(1)\n",
    "                        stressdeg.append(2)\n",
    "                        break\n",
    "                    elif w[x+1] in vowels0:\n",
    "                        stress.append(0)\n",
    "                        stressdeg.append(0)\n",
    "                        break\n",
    "                    #sh is not final but not followed by a vowel, look at preceding phone, sh might be coda or cluster\n",
    "                    else:\n",
    "                        if w[x-1] in vowels1:\n",
    "                            stress.append(1)\n",
    "                            stressdeg.append(1)\n",
    "                            break\n",
    "                        elif w[x-1] in vowels2:\n",
    "                            stress.append(1)\n",
    "                            stressdeg.append(2)\n",
    "                            break\n",
    "                        else:\n",
    "                            stress.append(0)\n",
    "                            stressdeg.append(0)\n",
    "                            break"
   ]
  },
  {
   "cell_type": "code",
   "execution_count": 8,
   "metadata": {},
   "outputs": [],
   "source": [
    "phone_clean = []\n",
    "for w in phone:\n",
    "    entry = \"\"\n",
    "    for x in range(len(w)):\n",
    "        entry = entry + w[x] + ' '\n",
    "    phone_clean.append(entry)"
   ]
  },
  {
   "cell_type": "code",
   "execution_count": 9,
   "metadata": {},
   "outputs": [],
   "source": [
    "import pandas\n",
    "colnames = [\"Word\",\"FREQcount\",\"CDcount\",\"FREQlow\",\"Cdlow\",\"SUBTLWF\",\"Lg10WF\",\"SUBTLCD\",\"Lg10CD\",\"Dom_PoS_SUBTLEX\",\"Freq_dom_PoS_SUBTLEX\",\"Percentage_dom_PoS\",\"All_PoS_SUBTLEX\",\"All_freqs_SUBTLEX\",\"Zipf\"]\n",
    "data = pandas.read_csv(\"Freqplus.csv\", names = colnames, low_memory=False)"
   ]
  },
  {
   "cell_type": "code",
   "execution_count": 10,
   "metadata": {},
   "outputs": [],
   "source": [
    "Word = data.Word.tolist()\n",
    "SUBTLWF = data.SUBTLWF.tolist()\n",
    "Lg10WF = data.Lg10WF.tolist()\n",
    "Zipf = data.Zipf.tolist()"
   ]
  },
  {
   "cell_type": "code",
   "execution_count": 11,
   "metadata": {},
   "outputs": [],
   "source": [
    "mydict = {Word[i]: (SUBTLWF[i], Lg10WF[i], Zipf[i]) for i in range(len(Word))}"
   ]
  },
  {
   "cell_type": "code",
   "execution_count": 12,
   "metadata": {},
   "outputs": [],
   "source": [
    "my_SUBTLWF = []\n",
    "my_Lg10WF = []\n",
    "my_Zipf = []\n",
    "for w in words:\n",
    "    try:\n",
    "        my_SUBTLWF.append(mydict[w][0])\n",
    "        my_Lg10WF.append(mydict[w][1])\n",
    "        my_Zipf.append(mydict[w][2])\n",
    "    except KeyError:\n",
    "        my_SUBTLWF.append('0')\n",
    "        my_Lg10WF.append('0')\n",
    "        my_Zipf.append('0')"
   ]
  },
  {
   "cell_type": "code",
   "execution_count": 13,
   "metadata": {},
   "outputs": [],
   "source": [
    "import csv\n",
    "from itertools import zip_longest\n",
    "\n",
    "d = [words, phone_clean, intervocalic, preceding, following, stress, stressdeg, my_SUBTLWF, my_Lg10WF, my_Zipf]\n",
    "export_data = zip_longest(*d, fillvalue = '')\n",
    "\n",
    "with open('numbers.csv', 'w', encoding=\"ISO-8859-1\", newline='') as myfile:\n",
    "      wr = csv.writer(myfile)\n",
    "      wr.writerow((\"words\", \"phone\", \"intervocalic\", \"preceding\", \"following\", \"stress\", \"stressdeg\", \"SUBTLWF\", \"Lg10WF\", \"Zipf\"))\n",
    "      wr.writerows(export_data)\n",
    "        \n",
    "myfile.close()"
   ]
  }
 ],
 "metadata": {
  "kernelspec": {
   "display_name": "Python 3",
   "language": "python",
   "name": "python3"
  },
  "language_info": {
   "codemirror_mode": {
    "name": "ipython",
    "version": 3
   },
   "file_extension": ".py",
   "mimetype": "text/x-python",
   "name": "python",
   "nbconvert_exporter": "python",
   "pygments_lexer": "ipython3",
   "version": "3.6.5"
  }
 },
 "nbformat": 4,
 "nbformat_minor": 2
}
